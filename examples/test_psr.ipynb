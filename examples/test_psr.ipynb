{
 "cells": [
  {
   "cell_type": "code",
   "execution_count": 7,
   "metadata": {},
   "outputs": [],
   "source": [
    "from evolml.models import *\n",
    "from sklearn.metrics import r2_score, roc_auc_score\n",
    "import numpy as np"
   ]
  },
  {
   "cell_type": "code",
   "execution_count": 8,
   "metadata": {},
   "outputs": [],
   "source": [
    "X_train = np.arange(100).reshape([-1, 1])\n",
    "y_train_c = (X_train > 50).astype(int)\n",
    "y_train_r = X_train*10-2\n",
    "\n",
    "X_test = np.arange(-200, 200)\n",
    "y_test_c = (X_test > 50).astype(int)\n",
    "y_test_r = X_test*10-2"
   ]
  },
  {
   "cell_type": "code",
   "execution_count": 9,
   "metadata": {},
   "outputs": [
    {
     "name": "stdout",
     "output_type": "stream",
     "text": [
      "Initializing optimization of Symbolic regression using PSO\n",
      "----------------------------------------------------------\n",
      "\n",
      "Optimizing Symbolic regression using PSO:\n",
      "\tReal time Spent: 0.12 s\n",
      "\tCPU time Spent:  0.12 s\n",
      "\tGeneration: 0\n",
      "\tBest fitness: 0.6666666666666667\n",
      "\tEvaluations of fitness: 100\n",
      "\tdiversity: 29.7\n",
      "\tmean speed: 0.469\n",
      "\n",
      "Optimizing Symbolic regression using PSO:\n",
      "\tReal time Spent: 0.6 s\n",
      "\tCPU time Spent:  0.6 s\n",
      "\tGeneration: 4\n",
      "\tBest fitness: 0.9693877551020409\n",
      "\tEvaluations of fitness: 500\n",
      "\tdiversity: 20.9\n",
      "\tmean speed: 8.85\n",
      "\n",
      "Optimizing Symbolic regression using PSO:\n",
      "\tReal time Spent: 1.13 s\n",
      "\tCPU time Spent:  1.13 s\n",
      "\tGeneration: 8\n",
      "\tBest fitness: 0.9705882352941176\n",
      "\tEvaluations of fitness: 900\n",
      "\tdiversity: 18.3\n",
      "\tmean speed: -9.14\n",
      "\n"
     ]
    }
   ],
   "source": [
    "model = ExplicitPSClassifier(\"p_0 * x_0 + p_1\")\n",
    "\n",
    "model = model.fit(X_train, y_train_c)"
   ]
  },
  {
   "cell_type": "code",
   "execution_count": 10,
   "metadata": {},
   "outputs": [
    {
     "data": {
      "text/plain": [
       "1.0"
      ]
     },
     "execution_count": 10,
     "metadata": {},
     "output_type": "execute_result"
    }
   ],
   "source": [
    "X_test = (np.arange(400) - 200).reshape([-1, 1])\n",
    "y_test = ((np.arange(400)-200) > 50).astype(int).reshape([-1, 1])\n",
    "\n",
    "y_pred = model.predict(X_test)\n",
    "roc_auc_score(y_pred, y_test)"
   ]
  },
  {
   "cell_type": "code",
   "execution_count": 11,
   "metadata": {},
   "outputs": [
    {
     "name": "stdout",
     "output_type": "stream",
     "text": [
      "Initializing optimization of Symbolic regression using PSO\n",
      "----------------------------------------------------------\n",
      "\n",
      "Optimizing Symbolic regression using PSO:\n",
      "\tReal time Spent: 0.09 s\n",
      "\tCPU time Spent:  0.09 s\n",
      "\tGeneration: 0\n",
      "\tBest fitness: 0.9920224422442244\n",
      "\tEvaluations of fitness: 100\n",
      "\tdiversity: 35.6\n",
      "\tmean speed: 0.505\n",
      "\n",
      "Optimizing Symbolic regression using PSO:\n",
      "\tReal time Spent: 0.53 s\n",
      "\tCPU time Spent:  0.53 s\n",
      "\tGeneration: 5\n",
      "\tBest fitness: 0.99518199819982\n",
      "\tEvaluations of fitness: 600\n",
      "\tdiversity: 17.7\n",
      "\tmean speed: -10.3\n",
      "\n",
      "Optimizing Symbolic regression using PSO:\n",
      "\tReal time Spent: 1.11 s\n",
      "\tCPU time Spent:  1.11 s\n",
      "\tGeneration: 11\n",
      "\tBest fitness: 0.999980798079808\n",
      "\tEvaluations of fitness: 1200\n",
      "\tdiversity: 10.9\n",
      "\tmean speed: 4.39\n",
      "\n",
      "Optimizing Symbolic regression using PSO:\n",
      "\tReal time Spent: 1.63 s\n",
      "\tCPU time Spent:  1.63 s\n",
      "\tGeneration: 17\n",
      "\tBest fitness: 0.999980798079808\n",
      "\tEvaluations of fitness: 1800\n",
      "\tdiversity: 8.34\n",
      "\tmean speed: 1.33\n",
      "\n",
      "Optimizing Symbolic regression using PSO:\n",
      "\tReal time Spent: 2.16 s\n",
      "\tCPU time Spent:  2.16 s\n",
      "\tGeneration: 23\n",
      "\tBest fitness: 0.9999944794479448\n",
      "\tEvaluations of fitness: 2400\n",
      "\tdiversity: 6.56\n",
      "\tmean speed: -0.183\n",
      "\n",
      "Optimizing Symbolic regression using PSO:\n",
      "\tReal time Spent: 2.74 s\n",
      "\tCPU time Spent:  2.74 s\n",
      "\tGeneration: 29\n",
      "\tBest fitness: 0.9999998799879988\n",
      "\tEvaluations of fitness: 3000\n",
      "\tdiversity: 5.98\n",
      "\tmean speed: 0.737\n",
      "\n",
      "Optimizing Symbolic regression using PSO:\n",
      "\tReal time Spent: 3.27 s\n",
      "\tCPU time Spent:  3.27 s\n",
      "\tGeneration: 35\n",
      "\tBest fitness: 0.9999998799879988\n",
      "\tEvaluations of fitness: 3600\n",
      "\tdiversity: 5.63\n",
      "\tmean speed: 0.296\n",
      "\n",
      "Optimizing Symbolic regression using PSO:\n",
      "\tReal time Spent: 3.84 s\n",
      "\tCPU time Spent:  3.84 s\n",
      "\tGeneration: 41\n",
      "\tBest fitness: 0.9999998799879988\n",
      "\tEvaluations of fitness: 4200\n",
      "\tdiversity: 5.7\n",
      "\tmean speed: 0.0975\n",
      "\n"
     ]
    }
   ],
   "source": [
    "model = ExplicitPSRegressor(\"p_0 * x_0 + p_1\")\n",
    "\n",
    "model = model.fit(X_train, y_train_r)"
   ]
  },
  {
   "cell_type": "code",
   "execution_count": 12,
   "metadata": {},
   "outputs": [
    {
     "data": {
      "text/plain": [
       "0.999999492022876"
      ]
     },
     "execution_count": 12,
     "metadata": {},
     "output_type": "execute_result"
    }
   ],
   "source": [
    "y_pred = model.predict(X_test)\n",
    "r2_score(y_pred, y_test_r)"
   ]
  }
 ],
 "metadata": {
  "kernelspec": {
   "display_name": "evolml",
   "language": "python",
   "name": "python3"
  },
  "language_info": {
   "codemirror_mode": {
    "name": "ipython",
    "version": 3
   },
   "file_extension": ".py",
   "mimetype": "text/x-python",
   "name": "python",
   "nbconvert_exporter": "python",
   "pygments_lexer": "ipython3",
   "version": "3.11.5"
  },
  "orig_nbformat": 4
 },
 "nbformat": 4,
 "nbformat_minor": 2
}
