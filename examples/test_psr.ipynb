{
 "cells": [
  {
   "cell_type": "code",
   "execution_count": 1,
   "metadata": {},
   "outputs": [],
   "source": [
    "from evolml.models import *\n",
    "from sklearn.metrics import r2_score, roc_auc_score\n",
    "import numpy as np"
   ]
  },
  {
   "cell_type": "code",
   "execution_count": 2,
   "metadata": {},
   "outputs": [],
   "source": [
    "X_train = np.arange(100).reshape([-1, 1])\n",
    "y_train_c = (X_train > 50).astype(int)\n",
    "y_train_r = X_train*10-2\n",
    "\n",
    "X_test = np.arange(-200, 200)\n",
    "y_test_c = (X_test > 50).astype(int)\n",
    "y_test_r = X_test*10-2"
   ]
  },
  {
   "cell_type": "code",
   "execution_count": 3,
   "metadata": {},
   "outputs": [
    {
     "ename": "AttributeError",
     "evalue": "'ParametricSymbolicClassificationObj' object has no attribute 'vecsize'",
     "output_type": "error",
     "traceback": [
      "\u001b[0;31m---------------------------------------------------------------------------\u001b[0m",
      "\u001b[0;31mAttributeError\u001b[0m                            Traceback (most recent call last)",
      "Cell \u001b[0;32mIn[3], line 1\u001b[0m\n\u001b[0;32m----> 1\u001b[0m model \u001b[38;5;241m=\u001b[39m \u001b[43mExplicitPSClassifier\u001b[49m\u001b[43m(\u001b[49m\u001b[38;5;124;43m\"\u001b[39;49m\u001b[38;5;124;43mp_0 * x_0 + p_1\u001b[39;49m\u001b[38;5;124;43m\"\u001b[39;49m\u001b[43m)\u001b[49m\n\u001b[1;32m      3\u001b[0m model \u001b[38;5;241m=\u001b[39m model\u001b[38;5;241m.\u001b[39mfit(X_train, y_train_c)\n",
      "File \u001b[0;32m~/Documentos/invAI/evolml/src/evolml/models/symbolic_regression/explicit_psm.py:48\u001b[0m, in \u001b[0;36mExplicitPSClassifier.__init__\u001b[0;34m(self, expression, params)\u001b[0m\n\u001b[1;32m     35\u001b[0m     params \u001b[38;5;241m=\u001b[39m {\n\u001b[1;32m     36\u001b[0m         \u001b[38;5;124m\"\u001b[39m\u001b[38;5;124mstop_cond\u001b[39m\u001b[38;5;124m\"\u001b[39m: \u001b[38;5;124m\"\u001b[39m\u001b[38;5;124mtime_limit or convergence or fit_target\u001b[39m\u001b[38;5;124m\"\u001b[39m,\n\u001b[1;32m     37\u001b[0m         \u001b[38;5;124m\"\u001b[39m\u001b[38;5;124mtime_limit\u001b[39m\u001b[38;5;124m\"\u001b[39m: \u001b[38;5;241m60.0\u001b[39m,\n\u001b[0;32m   (...)\u001b[0m\n\u001b[1;32m     44\u001b[0m         \u001b[38;5;124m\"\u001b[39m\u001b[38;5;124mv_timer\u001b[39m\u001b[38;5;124m\"\u001b[39m: \u001b[38;5;241m0.5\u001b[39m,\n\u001b[1;32m     45\u001b[0m     }\n\u001b[1;32m     47\u001b[0m \u001b[38;5;28mself\u001b[39m\u001b[38;5;241m.\u001b[39mobjfunc \u001b[38;5;241m=\u001b[39m ParametricSymbolicClassificationObj(expression)\n\u001b[0;32m---> 48\u001b[0m \u001b[38;5;28mself\u001b[39m\u001b[38;5;241m.\u001b[39minitializer \u001b[38;5;241m=\u001b[39m initializers\u001b[38;5;241m.\u001b[39mUniformVectorInitializer(\u001b[38;5;28;43mself\u001b[39;49m\u001b[38;5;241;43m.\u001b[39;49m\u001b[43mobjfunc\u001b[49m\u001b[38;5;241;43m.\u001b[39;49m\u001b[43mvecsize\u001b[49m, \u001b[38;5;28mself\u001b[39m\u001b[38;5;241m.\u001b[39mobjfunc\u001b[38;5;241m.\u001b[39mlow_lim, \u001b[38;5;28mself\u001b[39m\u001b[38;5;241m.\u001b[39mobjfunc\u001b[38;5;241m.\u001b[39mup_lim, pop_size\u001b[38;5;241m=\u001b[39m\u001b[38;5;241m100\u001b[39m)\n\u001b[1;32m     49\u001b[0m \u001b[38;5;28mself\u001b[39m\u001b[38;5;241m.\u001b[39msearch_strat \u001b[38;5;241m=\u001b[39m strategies\u001b[38;5;241m.\u001b[39mPSO(\u001b[38;5;28mself\u001b[39m\u001b[38;5;241m.\u001b[39minitializer, {\u001b[38;5;124m\"\u001b[39m\u001b[38;5;124mw\u001b[39m\u001b[38;5;124m\"\u001b[39m: \u001b[38;5;241m0.7\u001b[39m, \u001b[38;5;124m\"\u001b[39m\u001b[38;5;124mc1\u001b[39m\u001b[38;5;124m\"\u001b[39m: \u001b[38;5;241m1.5\u001b[39m, \u001b[38;5;124m\"\u001b[39m\u001b[38;5;124mc2\u001b[39m\u001b[38;5;124m\"\u001b[39m: \u001b[38;5;241m1.5\u001b[39m})\n\u001b[1;32m     50\u001b[0m \u001b[38;5;28mself\u001b[39m\u001b[38;5;241m.\u001b[39moptim_algorithm \u001b[38;5;241m=\u001b[39m algorithms\u001b[38;5;241m.\u001b[39mGeneralAlgorithm(\u001b[38;5;28mself\u001b[39m\u001b[38;5;241m.\u001b[39mobjfunc, \u001b[38;5;28mself\u001b[39m\u001b[38;5;241m.\u001b[39msearch_strat, params\u001b[38;5;241m=\u001b[39mparams)\n",
      "\u001b[0;31mAttributeError\u001b[0m: 'ParametricSymbolicClassificationObj' object has no attribute 'vecsize'"
     ]
    }
   ],
   "source": [
    "model = ExplicitPSClassifier(\"p_0 * x_0 + p_1\")\n",
    "\n",
    "model = model.fit(X_train, y_train_c)"
   ]
  },
  {
   "cell_type": "code",
   "execution_count": null,
   "metadata": {},
   "outputs": [
    {
     "data": {
      "text/plain": [
       "1.0"
      ]
     },
     "execution_count": 10,
     "metadata": {},
     "output_type": "execute_result"
    }
   ],
   "source": [
    "X_test = (np.arange(400) - 200).reshape([-1, 1])\n",
    "y_test = ((np.arange(400)-200) > 50).astype(int).reshape([-1, 1])\n",
    "\n",
    "y_pred = model.predict(X_test)\n",
    "roc_auc_score(y_pred, y_test)"
   ]
  },
  {
   "cell_type": "code",
   "execution_count": null,
   "metadata": {},
   "outputs": [
    {
     "name": "stdout",
     "output_type": "stream",
     "text": [
      "Initializing optimization of Symbolic regression using PSO\n",
      "----------------------------------------------------------\n",
      "\n",
      "Optimizing Symbolic regression using PSO:\n",
      "\tReal time Spent: 0.09 s\n",
      "\tCPU time Spent:  0.09 s\n",
      "\tGeneration: 0\n",
      "\tBest fitness: 0.9920224422442244\n",
      "\tEvaluations of fitness: 100\n",
      "\tdiversity: 35.6\n",
      "\tmean speed: 0.505\n",
      "\n",
      "Optimizing Symbolic regression using PSO:\n",
      "\tReal time Spent: 0.53 s\n",
      "\tCPU time Spent:  0.53 s\n",
      "\tGeneration: 5\n",
      "\tBest fitness: 0.99518199819982\n",
      "\tEvaluations of fitness: 600\n",
      "\tdiversity: 17.7\n",
      "\tmean speed: -10.3\n",
      "\n",
      "Optimizing Symbolic regression using PSO:\n",
      "\tReal time Spent: 1.11 s\n",
      "\tCPU time Spent:  1.11 s\n",
      "\tGeneration: 11\n",
      "\tBest fitness: 0.999980798079808\n",
      "\tEvaluations of fitness: 1200\n",
      "\tdiversity: 10.9\n",
      "\tmean speed: 4.39\n",
      "\n",
      "Optimizing Symbolic regression using PSO:\n",
      "\tReal time Spent: 1.63 s\n",
      "\tCPU time Spent:  1.63 s\n",
      "\tGeneration: 17\n",
      "\tBest fitness: 0.999980798079808\n",
      "\tEvaluations of fitness: 1800\n",
      "\tdiversity: 8.34\n",
      "\tmean speed: 1.33\n",
      "\n",
      "Optimizing Symbolic regression using PSO:\n",
      "\tReal time Spent: 2.16 s\n",
      "\tCPU time Spent:  2.16 s\n",
      "\tGeneration: 23\n",
      "\tBest fitness: 0.9999944794479448\n",
      "\tEvaluations of fitness: 2400\n",
      "\tdiversity: 6.56\n",
      "\tmean speed: -0.183\n",
      "\n",
      "Optimizing Symbolic regression using PSO:\n",
      "\tReal time Spent: 2.74 s\n",
      "\tCPU time Spent:  2.74 s\n",
      "\tGeneration: 29\n",
      "\tBest fitness: 0.9999998799879988\n",
      "\tEvaluations of fitness: 3000\n",
      "\tdiversity: 5.98\n",
      "\tmean speed: 0.737\n",
      "\n",
      "Optimizing Symbolic regression using PSO:\n",
      "\tReal time Spent: 3.27 s\n",
      "\tCPU time Spent:  3.27 s\n",
      "\tGeneration: 35\n",
      "\tBest fitness: 0.9999998799879988\n",
      "\tEvaluations of fitness: 3600\n",
      "\tdiversity: 5.63\n",
      "\tmean speed: 0.296\n",
      "\n",
      "Optimizing Symbolic regression using PSO:\n",
      "\tReal time Spent: 3.84 s\n",
      "\tCPU time Spent:  3.84 s\n",
      "\tGeneration: 41\n",
      "\tBest fitness: 0.9999998799879988\n",
      "\tEvaluations of fitness: 4200\n",
      "\tdiversity: 5.7\n",
      "\tmean speed: 0.0975\n",
      "\n"
     ]
    }
   ],
   "source": [
    "model = ExplicitPSRegressor(\"p_0 * x_0 + p_1\")\n",
    "\n",
    "model = model.fit(X_train, y_train_r)"
   ]
  },
  {
   "cell_type": "code",
   "execution_count": null,
   "metadata": {},
   "outputs": [
    {
     "data": {
      "text/plain": [
       "0.999999492022876"
      ]
     },
     "execution_count": 12,
     "metadata": {},
     "output_type": "execute_result"
    }
   ],
   "source": [
    "y_pred = model.predict(X_test)\n",
    "r2_score(y_pred, y_test_r)"
   ]
  }
 ],
 "metadata": {
  "kernelspec": {
   "display_name": "evolml",
   "language": "python",
   "name": "python3"
  },
  "language_info": {
   "codemirror_mode": {
    "name": "ipython",
    "version": 3
   },
   "file_extension": ".py",
   "mimetype": "text/x-python",
   "name": "python",
   "nbconvert_exporter": "python",
   "pygments_lexer": "ipython3",
   "version": "3.10.11"
  },
  "orig_nbformat": 4
 },
 "nbformat": 4,
 "nbformat_minor": 2
}
